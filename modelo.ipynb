{
 "cells": [
  {
   "cell_type": "code",
   "execution_count": null,
   "metadata": {},
   "outputs": [],
   "source": [
    "import networkx as nx\n",
    "import matplotlib.pyplot as plt\n",
    "import numpy as np\n",
    "import random"
   ]
  },
  {
   "cell_type": "markdown",
   "metadata": {},
   "source": [
    "### Funciones Auxiliares"
   ]
  },
  {
   "cell_type": "code",
   "execution_count": null,
   "metadata": {},
   "outputs": [],
   "source": [
    "def leer_archivo(filename):\n",
    "    '''\n",
    "    Recibe el nombre de un archivo de texto con la descripción de un grafo en formato TSPLIB y devuelve los paranetros necesarios para armar un grafo de NetworkX.\n",
    "    '''\n",
    "    \n",
    "    with open(filename, 'r') as file:\n",
    "        lines = file.readlines()\n",
    "    \n",
    "    dimension = 0\n",
    "    pesos_aristas = []\n",
    "    reading_weights = False\n",
    "    \n",
    "    for line in lines:\n",
    "        if line.startswith(\"DIMENSION\"):\n",
    "            dimension = int(line.split()[-1])\n",
    "        elif line.startswith(\"EDGE_WEIGHT_SECTION\"):\n",
    "            reading_weights = True\n",
    "            continue\n",
    "        elif line.startswith(\"EOF\"):\n",
    "            break\n",
    "        elif reading_weights:\n",
    "            pesos_aristas.extend(map(int, line.split()))\n",
    "            \n",
    "    return dimension, pesos_aristas"
   ]
  },
  {
   "cell_type": "code",
   "execution_count": null,
   "metadata": {},
   "outputs": [],
   "source": [
    "def crear_grafo_ATSP(dimension, pesos_aristas):\n",
    "    '''\n",
    "    Recibe la dimensión de un grafo y una lista de pesos de aristas y devuelve un grafo de NetworkX.\n",
    "    '''\n",
    "    \n",
    "    G = nx.DiGraph()\n",
    "\n",
    "    index = 0\n",
    "    for i in range(dimension):\n",
    "        for j in range(dimension):\n",
    "            if i != j:\n",
    "                peso = pesos_aristas[index]\n",
    "                G.add_edge(i, j, weight=peso)\n",
    "            index += 1\n",
    "\n",
    "    return G"
   ]
  },
  {
   "cell_type": "code",
   "execution_count": null,
   "metadata": {},
   "outputs": [],
   "source": [
    "def calcular_costo(G, solucion):\n",
    "    '''\n",
    "    Recibe un grafo de NetworkX y una solución al problema ATSP y devuelve el costo total de la solución, sumando los pesos de las aristas recorridas.\n",
    "    '''\n",
    "    \n",
    "    total_cost = 0\n",
    "    \n",
    "    for i in range(len(solucion) - 1):\n",
    "        total_cost += G[solucion[i]][solucion[i+1]]['weight']\n",
    "        \n",
    "    total_cost += G[solucion[-1]][solucion[0]]['weight']\n",
    "    \n",
    "    return total_cost"
   ]
  },
  {
   "cell_type": "code",
   "execution_count": 66,
   "metadata": {},
   "outputs": [],
   "source": [
    "def distancia_promedio_de_vecinos(G, nodo, visited):\n",
    "    '''\n",
    "    Recibe un grafo de NetworkX, un nodo, y una lista de nodos visitados, y devuelve la distancia promedio de los vecinos del nodo que aun no han sido visitados.\n",
    "    \n",
    "    Observación: Se restan los vecinos visitados ya que no tiene sentido contemplarlos en la distancia promedio, ya que ya han sido visitados. \n",
    "                 Este cambio mejora la complejidad computacional del algoritmo. \n",
    "    '''\n",
    "    \n",
    "    vecinos = set(G.neighbors(nodo)) - set(visited) # O(n)\n",
    "    \n",
    "    if len(vecinos) == 0: # O(1)\n",
    "        return 0\n",
    "    else:\n",
    "        total_distance = sum(nx.shortest_path_length(G, nodo, neighbor) for neighbor in vecinos) # O(n^3)\n",
    "        return total_distance / len(vecinos) # O(1)\n",
    "    \n",
    "# Complejidad total: O(n^3)"
   ]
  },
  {
   "cell_type": "code",
   "execution_count": null,
   "metadata": {},
   "outputs": [],
   "source": [
    "def visualizar_grafo(G):\n",
    "    pos = nx.spring_layout(G)\n",
    "    edge_labels = {(u, v): data['weight'] for u, v, data in G.edges(data=True)}\n",
    "    \n",
    "    plt.figure(figsize=(10, 10))\n",
    "    \n",
    "    nx.draw(G, pos, with_labels=True, node_size=700, node_color='skyblue', font_size=10, font_weight='bold', arrows=True)\n",
    "    nx.draw_networkx_edge_labels(G, pos, edge_labels=edge_labels, font_color='red')\n",
    "    \n",
    "    plt.title(\"Graph Visualization of ATSP\")\n",
    "    plt.show()"
   ]
  },
  {
   "cell_type": "code",
   "execution_count": null,
   "metadata": {},
   "outputs": [],
   "source": [
    "def visualize_hamiltonian_circuit(G, circuit):\n",
    "    pos = circular_layout_based_on_circuit(circuit)\n",
    "    plt.figure(figsize=(5, 5))\n",
    "    \n",
    "    # Draw nodes\n",
    "    nx.draw_networkx_nodes(G, pos, nodelist=circuit, node_size=700, node_color='skyblue')\n",
    "\n",
    "    # Draw only the edges in the circuit\n",
    "    edges = [(circuit[i], circuit[i + 1]) for i in range(len(circuit) - 1)]\n",
    "    edges.append((circuit[-1], circuit[0]))  # Close the circuit\n",
    "    \n",
    "    edge_labels = {(u, v): G[u][v]['weight'] for u, v in edges}\n",
    "    \n",
    "    \n",
    "    nx.draw_networkx_edges(G, pos, edgelist=edges, edge_color='blue', width=2, arrows=True)\n",
    "    nx.draw_networkx_edge_labels(G, pos, edge_labels=edge_labels, font_color='red')\n",
    "    \n",
    "    # Draw node labels\n",
    "    nx.draw_networkx_labels(G, pos, font_size=10, font_weight='bold')\n",
    "    \n",
    "    plt.title(\"Hamiltonian Circuit Visualization\")\n",
    "    plt.show()\n",
    "\n",
    "def circular_layout_based_on_circuit(circuit):\n",
    "    num_nodes = len(circuit)\n",
    "    angle_step = 2 * np.pi / num_nodes\n",
    "    pos = {}\n",
    "    for i, node in enumerate(circuit):\n",
    "        angle = i * angle_step\n",
    "        pos[node] = np.array([np.cos(angle), np.sin(angle)])\n",
    "    return pos"
   ]
  },
  {
   "cell_type": "markdown",
   "metadata": {},
   "source": [
    "### Heurísticas"
   ]
  },
  {
   "cell_type": "code",
   "execution_count": null,
   "metadata": {},
   "outputs": [],
   "source": [
    "def heuristica_1(G):\n",
    "    '''\n",
    "    Recibe un grafo de NetworkX y devuelve una solución al problema ATSP utilizando el método: agregar a la solución al vecino mas cercano.\n",
    "    '''\n",
    "    \n",
    "    # n = |G|\n",
    "    \n",
    "    # Inicializo la solución\n",
    "    start_node = 0 #O(1)\n",
    "    visited = [start_node] #O(1)\n",
    "    current_node = start_node #O(1)\n",
    "\n",
    "    # Mientras no haya visitado todos los nodos\n",
    "    while len(visited) < len(G.nodes): #O(n)\n",
    "        next_node = min(\n",
    "            (node for node in G.neighbors(current_node) if node not in visited),\n",
    "            key=lambda node: G[current_node][node]['weight'],\n",
    "            default=None\n",
    "        ) #O(n), como es completo, entonces en cada iteración se recorren todos los nodos\n",
    "        if next_node is None: #O(1)\n",
    "            break\n",
    "        \n",
    "        visited.append(next_node) #O(1)\n",
    "        current_node = next_node #O(1)\n",
    "    \n",
    "    # Calculo el costo totan de la solución\n",
    "    total_cost = calcular_costo(G, visited) #O(n) recorre al menos una vez cada nodo\n",
    "    \n",
    "    return visited, total_cost\n",
    "\n",
    "# Complejidad total: O(n^2)"
   ]
  },
  {
   "cell_type": "code",
   "execution_count": null,
   "metadata": {},
   "outputs": [],
   "source": [
    "def heuristica_2(G):\n",
    "    '''\n",
    "    Recibe un grafo de NetworkX y devuelve una solución al problema ATSP utilizando el metodo: agregar a la solución al vecino con menor promedio a sus vecinos.\n",
    "    '''\n",
    "    \n",
    "    # n = |G|\n",
    "    \n",
    "    # Inicializo la solución\n",
    "    start_node = 0 #O(1)\n",
    "    visited = [start_node]\n",
    "    current_node = 0\n",
    "    \n",
    "    # Mientras no haya visitado todos los nodos\n",
    "    while len(visited) < len(G.nodes): #O(n)\n",
    "        neighbors = set(G.neighbors(current_node)) - set(visited) #O(n), porque tengo que recorrer un set de n elementos\n",
    "        if not neighbors: #O(1) \n",
    "            break\n",
    "        \n",
    "        best_average = float('inf') #O(1)\n",
    "        next_node = None #O(1) \n",
    "        \n",
    "        for node in neighbors: #O(n)\n",
    "            if node not in visited: #O(1), porque es una lista\n",
    "                average = distancia_promedio_de_vecinos(G, node, visited) #O(n^3)\n",
    "                if average < best_average: #O(1)\n",
    "                    best_average = average #O(1)\n",
    "                    next_node = node #O(1) \n",
    "        \n",
    "        visited.append(next_node) #O(1)\n",
    "        current_node = next_node #O(1) \n",
    "    \n",
    "    # Calculo el costo total de la solución\n",
    "    total_cost = calcular_costo(G, visited) #O(n)\n",
    "    \n",
    "    return visited,total_cost\n",
    "\n",
    "# Complejidad total: O(n^5)"
   ]
  },
  {
   "cell_type": "code",
   "execution_count": null,
   "metadata": {},
   "outputs": [],
   "source": [
    "def heuristica_3(G):\n",
    "    '''\n",
    "    Recibe un grafo de NetworkX y devuelve una solución al problema ATSP utilizando el metodo: agregar a la solución al vecino con menor distancia inverso.\n",
    "    '''\n",
    "    \n",
    "    # n = |G|\n",
    "    \n",
    "    start_node = 0 #O(1)\n",
    "    visited = [start_node] #O(1)\n",
    "    current_node = start_node #O(1)\n",
    "\n",
    "    while len(visited) < len(G.nodes): #O(n)\n",
    "        next_node = min( \n",
    "            (node for node in G.neighbors(current_node) if node not in visited),\n",
    "            key=lambda node: G[node][current_node]['weight'],\n",
    "            default=None\n",
    "        ) #O(n), porque recorre todos los nodos \n",
    "        if next_node is None: #O(1)\n",
    "            break\n",
    "        \n",
    "        visited.append(next_node) #O(1)\n",
    "        current_node = next_node #O(1) \n",
    "    \n",
    "    total_cost = calcular_costo(G, visited) #O(n)\n",
    "    \n",
    "    return visited, total_cost\n",
    "\n",
    "# Complejidad total: O(n^2)"
   ]
  },
  {
   "cell_type": "markdown",
   "metadata": {},
   "source": [
    "### Operadores"
   ]
  },
  {
   "cell_type": "code",
   "execution_count": null,
   "metadata": {},
   "outputs": [],
   "source": [
    "def operador_swap(solucion):\n",
    "    \n",
    "    # n = |solucion|\n",
    "\n",
    "    neighborhood = [] #O(1)\n",
    "\n",
    "    # Recorro todas los pares de nodos (i,j) donde i != j\n",
    "    for i in range(len(solucion)): #O(n)\n",
    "        for j in range(i + 1, len(solucion)): #O(n)\n",
    "            # Swapeo los nodos en la posicion i y j\n",
    "            nueva_solucion = solucion[:] #O(n)\n",
    "            nueva_solucion[i], nueva_solucion[j] = nueva_solucion[j], nueva_solucion[i] #O(1)\n",
    "            neighborhood.append(nueva_solucion) #O(1)\n",
    "\n",
    "    return neighborhood #O(1)\n",
    "\n",
    "# Complejidad total: O(n^3)\n",
    "# Tamaño del neighborhood : O(n^2) -> este calculo viene de la combinatoria (n | 2), de n elementos tomo 2, por lo que tendría n! / (n-2)!2! = n(n-1)/2 ≈ O(n^2)"
   ]
  },
  {
   "cell_type": "code",
   "execution_count": null,
   "metadata": {},
   "outputs": [],
   "source": [
    "def operador_insert(solucion):\n",
    "    \n",
    "    # n = |solucion|\n",
    "\n",
    "    neighborhood = [] #O(1)\n",
    "\n",
    "    # Iterate over all nodes in the circuit\n",
    "    for i in range(len(solucion)): #O(n)\n",
    "        # Remove node from its current position\n",
    "        nodo = solucion[i] #O(1)\n",
    "        solucion_temp = solucion[:i] + solucion[i+1:] #O(n)\n",
    "\n",
    "        # Insert node in every possible position in the reduced circuit\n",
    "        for j in range(len(solucion_temp) + 1): #O(n)\n",
    "            nueva_solucion = solucion_temp[:j] + [nodo] + solucion_temp[j:] #O(n)\n",
    "            \n",
    "            neighborhood.append(nueva_solucion) #O(1)\n",
    "\n",
    "    return neighborhood #O(1)\n",
    "\n",
    "# Complejidad total: O(n^3)\n",
    "# Tamaño del neighborhood : O(n^2) -> Cada nodo puede estar en n posiciones diferentes, por lo que el tamaño del neighborhood es n^2"
   ]
  },
  {
   "cell_type": "code",
   "execution_count": 1,
   "metadata": {},
   "outputs": [],
   "source": [
    "def operador_2opt(solucion):\n",
    "    \n",
    "    neighborhood = [] #O(1)\n",
    "    \n",
    "    for i in range(1, len(solucion) - 2): #O(n)\n",
    "        for k in range(i + 1, len(solucion) - 1): #O(n) \n",
    "            new_solution = solucion[:i] + solucion[i:k+1][::-1] + solucion[k+1:] #O(n)\n",
    "            neighborhood.append(new_solution) #O(1)\n",
    "    \n",
    "    return neighborhood #O(1)\n",
    "\n",
    "# Complejidad total: O(n^3)\n",
    "# Tamaño del neighborhood : O(n^2) -> El tamaño de la vecindad es el número de pares (i,k) donde 𝑖 < 𝑘, entonces tenemos la combinatoria (n | 2) ≈ O(n^2)"
   ]
  },
  {
   "cell_type": "markdown",
   "metadata": {},
   "source": [
    "### Búsqueda local"
   ]
  },
  {
   "cell_type": "code",
   "execution_count": null,
   "metadata": {},
   "outputs": [],
   "source": [
    "def busqueda_local(G, solucion, operador:str):\n",
    "\n",
    "        print(f'Iniciando busqueda local con operador {operador}')\n",
    "        \n",
    "        best_solution = solucion\n",
    "        best_cost = calcular_costo(G, best_solution)\n",
    "\n",
    "        i:int = 0\n",
    "        \n",
    "        while i < 1000:\n",
    "            \n",
    "            if operador == \"swap\":\n",
    "                neighborhood = operador_swap(best_solution) \n",
    "            elif operador == \"insert\":\n",
    "                neighborhood = operador_insert(best_solution)\n",
    "            elif operador == \"2opt\":\n",
    "                neighborhood = operador_2opt(best_solution)\n",
    "                \n",
    "            improved = False\n",
    "\n",
    "            if operador == \"all\":\n",
    "                \n",
    "                neighborhood_2opt = operador_2opt(best_solution)\n",
    "                for neighbor in neighborhood_2opt:\n",
    "                    cost = calcular_costo(G, neighbor)\n",
    "                    if cost < best_cost:\n",
    "                        best_solution = neighbor\n",
    "                        best_cost = cost\n",
    "                        improved = True           \n",
    "                \n",
    "                neighborhood_swap = operador_swap(best_solution)\n",
    "                for neighbor in neighborhood_swap:\n",
    "                    cost = calcular_costo(G, neighbor)\n",
    "                    if cost < best_cost:\n",
    "                        best_solution = neighbor\n",
    "                        best_cost = cost\n",
    "                        improved = True\n",
    "                \n",
    "                neighborhood_insert = operador_insert(best_solution)\n",
    "                for neighbor in neighborhood_insert:\n",
    "                    cost = calcular_costo(G, neighbor)\n",
    "                    if cost < best_cost:\n",
    "                        best_solution = neighbor\n",
    "                        best_cost = cost\n",
    "                        improved = True            \n",
    "                \n",
    "            \n",
    "            else:\n",
    "                for neighbor in neighborhood:\n",
    "                    cost = calcular_costo(G, neighbor)\n",
    "                    \n",
    "                    if cost < best_cost:\n",
    "                        best_solution = neighbor\n",
    "                        best_cost = cost\n",
    "                        improved = True\n",
    "    \n",
    "            i+=1\n",
    "            if not improved:\n",
    "                break\n",
    "            \n",
    "        return best_solution, best_cost"
   ]
  },
  {
   "cell_type": "markdown",
   "metadata": {},
   "source": [
    "### Cargado de instancia"
   ]
  },
  {
   "cell_type": "code",
   "execution_count": null,
   "metadata": {},
   "outputs": [],
   "source": [
    "filename = './instancias/ftv55.atsp'\n",
    "dimension, pesos_aristas = leer_archivo(filename)\n",
    "\n",
    "G = crear_grafo_ATSP(dimension, pesos_aristas)"
   ]
  },
  {
   "cell_type": "markdown",
   "metadata": {},
   "source": [
    "#### Calculo de costo con heurísticas"
   ]
  },
  {
   "cell_type": "code",
   "execution_count": null,
   "metadata": {},
   "outputs": [],
   "source": [
    "CH_heuristica1,total_cost = heuristica_1(G)\n",
    "\n",
    "print(\"Costo total 1: \", total_cost)"
   ]
  },
  {
   "cell_type": "code",
   "execution_count": null,
   "metadata": {},
   "outputs": [],
   "source": [
    "CH_heuristica2,total_cost2 = heuristica_2(G)\n",
    "\n",
    "print(\"Costo total 2: \", total_cost2)  "
   ]
  },
  {
   "cell_type": "code",
   "execution_count": null,
   "metadata": {},
   "outputs": [],
   "source": [
    "CH_heuristica3,total_cost3 = heuristica_3(G)\n",
    "\n",
    "print(\"Costo total 3: \", total_cost3)  "
   ]
  },
  {
   "cell_type": "markdown",
   "metadata": {},
   "source": [
    "#### Mejora de soluciones con búsqueda local"
   ]
  },
  {
   "cell_type": "code",
   "execution_count": null,
   "metadata": {},
   "outputs": [],
   "source": [
    "# Heuristica 1\n",
    "\n",
    "print(\"Solucion inicial: \", CH_heuristica1)\n",
    "print(\"Costo incial: \", total_cost)\n",
    "\n",
    "solucion_mejorada_swap = busqueda_local(G, CH_heuristica1, \"swap\")\n",
    "\n",
    "print(\"Solucion mejorada con swap: \", solucion_mejorada_swap[0])\n",
    "print(\"Costo total: \", solucion_mejorada_swap[1])\n",
    "\n",
    "solucion_mejorada_insert = busqueda_local(G, CH_heuristica1, \"insert\")\n",
    "\n",
    "print(\"Solucion mejorada con insert: \", solucion_mejorada_insert[0])\n",
    "print(\"Costo total: \", solucion_mejorada_insert[1])\n",
    "\n",
    "solucion_mejorada_2opt = busqueda_local(G, CH_heuristica1, \"2opt\")\n",
    "\n",
    "print(\"Solucion mejorada con 2opt: \", solucion_mejorada_2opt[0])\n",
    "print(\"Costo total: \", solucion_mejorada_2opt[1])"
   ]
  },
  {
   "cell_type": "code",
   "execution_count": null,
   "metadata": {},
   "outputs": [],
   "source": [
    "# Heuristica 2\n",
    "\n",
    "print(\"Solucion inicial: \", CH_heuristica2)\n",
    "print(\"Costo incial: \", total_cost2)\n",
    "\n",
    "solucion_mejorada_insert = busqueda_local(G, CH_heuristica2, \"insert\")\n",
    "\n",
    "print(\"Solucion mejorada con insert: \", solucion_mejorada_insert[0])\n",
    "print(\"Costo total: \", solucion_mejorada_insert[1])\n",
    "\n",
    "solucion_mejorada_swap = busqueda_local(G, CH_heuristica2, \"swap\")\n",
    "\n",
    "print(\"Solucion mejorada con swap: \", solucion_mejorada_swap[0])\n",
    "print(\"Costo total: \", solucion_mejorada_swap[1])\n",
    "\n",
    "solucion_mejorada_2opt = busqueda_local(G, CH_heuristica2, \"2opt\")\n",
    "\n",
    "print(\"Solucion mejorada con 2opt: \", solucion_mejorada_2opt[0])\n",
    "print(\"Costo total: \", solucion_mejorada_2opt[1])"
   ]
  },
  {
   "cell_type": "code",
   "execution_count": null,
   "metadata": {},
   "outputs": [],
   "source": [
    "# Heuristica 3\n",
    "\n",
    "print(\"Solucion inicial: \", CH_heuristica3)\n",
    "print(\"Costo incial: \", total_cost3)\n",
    "\n",
    "solucion_mejorada_insert = busqueda_local(G, CH_heuristica3, \"insert\")\n",
    "\n",
    "print(\"Solucion mejorada con insert: \", solucion_mejorada_insert[0])\n",
    "print(\"Costo total: \", solucion_mejorada_insert[1])\n",
    "\n",
    "solucion_mejorada_swap = busqueda_local(G, CH_heuristica3, \"swap\")\n",
    "\n",
    "print(\"Solucion mejorada con swap: \", solucion_mejorada_swap[0])\n",
    "print(\"Costo total: \", solucion_mejorada_swap[1])\n",
    "\n",
    "solucion_mejorada_2opt = busqueda_local(G, CH_heuristica3, \"2opt\")\n",
    "\n",
    "print(\"Solucion mejorada con 2opt: \", solucion_mejorada_2opt[0])\n",
    "print(\"Costo total: \", solucion_mejorada_2opt[1])"
   ]
  },
  {
   "cell_type": "markdown",
   "metadata": {},
   "source": [
    "#### Mejora de soluciones con los operadores en conjunto"
   ]
  },
  {
   "cell_type": "code",
   "execution_count": null,
   "metadata": {},
   "outputs": [],
   "source": [
    "# Heuristica 1\n",
    "\n",
    "print(\"Solucion inicial: \", CH_heuristica1)\n",
    "print(\"Costo incial: \", total_cost)\n",
    "\n",
    "solucion_mejorada_all = busqueda_local(G, CH_heuristica1, \"all\")\n",
    "\n",
    "print(\"Solucion mejorada con todos: \", solucion_mejorada_all[0])\n",
    "print(\"Costo total: \", solucion_mejorada_all[1])"
   ]
  },
  {
   "cell_type": "code",
   "execution_count": null,
   "metadata": {},
   "outputs": [],
   "source": [
    "# Heuristica 2\n",
    "\n",
    "print(\"Solucion inicial: \", CH_heuristica2)\n",
    "print(\"Costo incial: \", total_cost2)\n",
    "\n",
    "solucion_mejorada_all2 = busqueda_local(G, CH_heuristica2, \"all\")\n",
    "\n",
    "print(\"Solucion mejorada con todos: \", solucion_mejorada_all2[0])\n",
    "print(\"Costo total: \", solucion_mejorada_all2[1])"
   ]
  },
  {
   "cell_type": "code",
   "execution_count": null,
   "metadata": {},
   "outputs": [],
   "source": [
    "# Heuristica 3\n",
    "\n",
    "print(\"Solucion inicial: \", CH_heuristica3)\n",
    "print(\"Costo incial: \", total_cost3)\n",
    "\n",
    "solucion_mejorada_all3 = busqueda_local(G, CH_heuristica3, \"all\")\n",
    "\n",
    "print(\"Solucion mejorada con todos: \", solucion_mejorada_all3[0])\n",
    "print(\"Costo total: \", solucion_mejorada_all3[1])"
   ]
  },
  {
   "cell_type": "markdown",
   "metadata": {},
   "source": [
    "### Extra"
   ]
  },
  {
   "cell_type": "markdown",
   "metadata": {},
   "source": [
    "#### Heuristicas que comienzan desde un nodo random"
   ]
  },
  {
   "cell_type": "code",
   "execution_count": null,
   "metadata": {},
   "outputs": [],
   "source": [
    "def heurisitica1_aleatoria(G):\n",
    "    \n",
    "    # Inicializo la solución desde un nodo random\n",
    "    start_node = random.randrange(0,len(G.nodes)-1,1) #O(1)\n",
    "    print(start_node)\n",
    "    visited = [start_node] #O(1)\n",
    "    current_node = start_node #O(1)\n",
    "\n",
    "    # Mientras no haya visitado todos los nodos\n",
    "    while len(visited) < len(G.nodes): #O(n)\n",
    "        next_node = min(\n",
    "            (node for node in G.neighbors(current_node) if node not in visited),\n",
    "            key=lambda node: G[current_node][node]['weight'],\n",
    "            default=None\n",
    "        ) #O(n), como es completo, entonces en cada iteración se recorren todos los nodos\n",
    "        if next_node is None: #O(1)\n",
    "            break\n",
    "        \n",
    "        visited.append(next_node) #O(1)\n",
    "        current_node = next_node #O(1)\n",
    "    \n",
    "    # Calculo el costo totan de la solución\n",
    "    total_cost = calcular_costo(G, visited) #O(n) recorre al menos una vez cada nodo\n",
    "    \n",
    "    return visited, total_cost\n",
    "\n",
    "# Complejidad total: O(n^2)"
   ]
  },
  {
   "cell_type": "code",
   "execution_count": null,
   "metadata": {},
   "outputs": [],
   "source": [
    "def heuristica2_aleatoria(G):\n",
    "    # n = |G|\n",
    "    \n",
    "    # Inicializo la solución\n",
    "    start_node = random.randrange(0,len(G.nodes)-1,1) #O(1)\n",
    "    visited = [start_node]\n",
    "    current_node = start_node\n",
    "    print(start_node)\n",
    "    \n",
    "    # Mientras no haya visitado todos los nodos\n",
    "    while len(visited) < len(G.nodes): #O(n)\n",
    "        neighbors = set(G.neighbors(current_node)) - set(visited) #O(n), porque tengo que recorrer un set de n elementos\n",
    "        \n",
    "        best_average = float('inf') #O(1)\n",
    "        next_node = None #O(1) \n",
    "        \n",
    "        for node in neighbors: #O(n)\n",
    "            if node not in visited: #O(1), porque es una lista\n",
    "                average = distancia_promedio_de_vecinos(G, node, visited) #O(n)\n",
    "                if average < best_average: #O(1)\n",
    "                    best_average = average #O(1)\n",
    "                    next_node = node #O(1) \n",
    "        \n",
    "        visited.append(next_node) #O(1)\n",
    "        current_node = next_node #O(1) \n",
    "    \n",
    "    # Calculo el costo total de la solución\n",
    "    total_cost = calcular_costo(G, visited) #O(n)\n",
    "    \n",
    "    return visited,total_cost\n",
    "\n",
    "# Complejidad total: O(n^3)\n"
   ]
  },
  {
   "cell_type": "code",
   "execution_count": null,
   "metadata": {},
   "outputs": [],
   "source": [
    "def heuristica3_aleatoria(G):\n",
    "    \n",
    "    start_node = random.randrange(0,len(G.nodes)-1,1)\n",
    "    visited = [start_node]\n",
    "    current_node = start_node\n",
    "\n",
    "    while len(visited) < len(G.nodes):\n",
    "        next_node = min(\n",
    "            (node for node in G.neighbors(current_node) if node not in visited),\n",
    "            key=lambda node: G[node][current_node]['weight'],\n",
    "            default=None\n",
    "        )\n",
    "        if next_node is None:\n",
    "            break\n",
    "        \n",
    "        visited.append(next_node)\n",
    "        current_node = next_node\n",
    "    \n",
    "    total_cost = calcular_costo(G, visited)\n",
    "    \n",
    "    return visited, total_cost\n"
   ]
  },
  {
   "cell_type": "markdown",
   "metadata": {},
   "source": [
    "##### Exprimentación para heuristicas random"
   ]
  },
  {
   "cell_type": "code",
   "execution_count": null,
   "metadata": {},
   "outputs": [],
   "source": [
    "CH_heuristica1,total_cost = heuristica_1(G)\n",
    "\n",
    "print(\"Costo total 1: \", total_cost)\n",
    "\n",
    "CH_heuristica1_random,total_cost_random = heurisitica1_aleatoria(G)\n",
    "\n",
    "print(\"Costo total random: \", total_cost_random)"
   ]
  },
  {
   "cell_type": "code",
   "execution_count": null,
   "metadata": {},
   "outputs": [],
   "source": [
    "# Heuristica 1\n",
    "\n",
    "print(\"Solucion inicial: \", CH_heuristica1)\n",
    "print(\"Costo incial: \", total_cost)\n",
    "\n",
    "solucion_mejorada_all = busqueda_local(G, CH_heuristica1, \"all\")\n",
    "\n",
    "print(\"Solucion mejorada con todos: \", solucion_mejorada_all[0])\n",
    "print(\"Costo total: \", solucion_mejorada_all[1])"
   ]
  },
  {
   "cell_type": "code",
   "execution_count": null,
   "metadata": {},
   "outputs": [],
   "source": [
    "# Heuristica 1 random\n",
    "\n",
    "print(\"Solucion inicial: \", CH_heuristica1_random)\n",
    "print(\"Costo incial: \", total_cost_random)\n",
    "\n",
    "solucion_mejorada_all_random = busqueda_local(G, CH_heuristica1_random, \"all\")\n",
    "\n",
    "print(\"Solucion mejorada con todos: \", solucion_mejorada_all_random[0])\n",
    "print(\"Costo total: \", solucion_mejorada_all_random[1])"
   ]
  },
  {
   "cell_type": "code",
   "execution_count": null,
   "metadata": {},
   "outputs": [],
   "source": [
    "CH_heuristica2,total_cost2 = heuristica_2(G)\n",
    "\n",
    "print(\"Costo total 2: \", total_cost2)\n",
    "\n",
    "CH_heuristica2_random,total_cost_random2 = heuristica2_aleatoria(G)\n",
    "\n",
    "print(\"Costo total random: \", total_cost_random2)"
   ]
  },
  {
   "cell_type": "code",
   "execution_count": null,
   "metadata": {},
   "outputs": [],
   "source": [
    "# Heuristica 2\n",
    "\n",
    "print(\"Solucion inicial: \", CH_heuristica2)\n",
    "print(\"Costo incial: \", total_cost2)\n",
    "\n",
    "solucion_mejorada_all2 = busqueda_local(G, CH_heuristica2, \"all\")\n",
    "\n",
    "print(\"Solucion mejorada con todos: \", solucion_mejorada_all2[0])\n",
    "print(\"Costo total: \", solucion_mejorada_all2[1])"
   ]
  },
  {
   "cell_type": "code",
   "execution_count": null,
   "metadata": {},
   "outputs": [],
   "source": [
    "# Heuristica 2 random\n",
    "\n",
    "print(\"Solucion inicial: \", CH_heuristica2_random)\n",
    "print(\"Costo incial: \", total_cost_random2)\n",
    "\n",
    "solucion_mejorada_all_random2 = busqueda_local(G, CH_heuristica2_random, \"all\")\n",
    "\n",
    "print(\"Solucion mejorada con todos: \", solucion_mejorada_all_random2[0])\n",
    "print(\"Costo total: \", solucion_mejorada_all_random2[1])"
   ]
  },
  {
   "cell_type": "code",
   "execution_count": null,
   "metadata": {},
   "outputs": [],
   "source": [
    "CH_heuristica3,total_cost3 = heuristica_3(G)\n",
    "\n",
    "print(\"Costo total 3: \", total_cost2)\n",
    "\n",
    "CH_heuristica3_random,total_cost_random3 = heuristica3_aleatoria(G)\n",
    "\n",
    "print(\"Costo total random: \", total_cost_random3)"
   ]
  },
  {
   "cell_type": "code",
   "execution_count": null,
   "metadata": {},
   "outputs": [],
   "source": [
    "# Heuristica 2\n",
    "\n",
    "print(\"Solucion inicial: \", CH_heuristica3)\n",
    "print(\"Costo incial: \", total_cost3)\n",
    "\n",
    "solucion_mejorada_all3 = busqueda_local(G, CH_heuristica3, \"all\")\n",
    "\n",
    "print(\"Solucion mejorada con todos: \", solucion_mejorada_all3[0])\n",
    "print(\"Costo total: \", solucion_mejorada_all3[1])"
   ]
  },
  {
   "cell_type": "code",
   "execution_count": null,
   "metadata": {},
   "outputs": [],
   "source": [
    "# Heuristica 2 random\n",
    "\n",
    "print(\"Solucion inicial: \", CH_heuristica3_random)\n",
    "print(\"Costo incial: \", total_cost_random3)\n",
    "\n",
    "solucion_mejorada_all_random3 = busqueda_local(G, CH_heuristica3_random, \"all\")\n",
    "\n",
    "print(\"Solucion mejorada con todos: \", solucion_mejorada_all_random3[0])\n",
    "print(\"Costo total: \", solucion_mejorada_all_random3[1])"
   ]
  }
 ],
 "metadata": {
  "kernelspec": {
   "display_name": "Python 3",
   "language": "python",
   "name": "python3"
  },
  "language_info": {
   "codemirror_mode": {
    "name": "ipython",
    "version": 3
   },
   "file_extension": ".py",
   "mimetype": "text/x-python",
   "name": "python",
   "nbconvert_exporter": "python",
   "pygments_lexer": "ipython3",
   "version": "3.12.3"
  }
 },
 "nbformat": 4,
 "nbformat_minor": 2
}
